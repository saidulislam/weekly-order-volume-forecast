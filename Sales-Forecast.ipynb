{
 "cells": [
  {
   "cell_type": "markdown",
   "metadata": {},
   "source": [
    "# all imports"
   ]
  },
  {
   "cell_type": "code",
   "execution_count": 1,
   "metadata": {},
   "outputs": [],
   "source": [
    "import torch\n",
    "from torch import nn, optim\n",
    "import numpy as np\n",
    "import pandas as pd\n",
    "import matplotlib.pyplot as plt"
   ]
  },
  {
   "cell_type": "code",
   "execution_count": 2,
   "metadata": {},
   "outputs": [],
   "source": [
    "device = torch.device(\"cuda:0\" if torch.cuda.is_available() else \"cpu\")\n",
    "rnn_type = nn.GRU # or nn.GRU"
   ]
  },
  {
   "cell_type": "markdown",
   "metadata": {},
   "source": [
    "# parameters"
   ]
  },
  {
   "cell_type": "code",
   "execution_count": 3,
   "metadata": {},
   "outputs": [
    {
     "name": "stdout",
     "output_type": "stream",
     "text": [
      "slice(None, -2, None)\n"
     ]
    }
   ],
   "source": [
    "# Choose subset of parts to train\n",
    "keep_parts = slice(1)\n",
    "\n",
    "epochs = 100 # ctrl-c to stop early\n",
    "lr = 0.001\n",
    "\n",
    "seq_len = 10\n",
    "batch_size = 4 # previous val 2\n",
    "\n",
    "# Increase hidden_dim depending on number of parts being trained\n",
    "# since it encodes forecast for all parts\n",
    "hidden_dim = 512\n",
    "layers = 2\n",
    "\n",
    "# How many weeks to forecast\n",
    "predict_steps = 4\n",
    "# Forecast starts immediately after this slice of data\n",
    "predict_input = slice(-predict_steps//2)\n",
    "print(predict_input)"
   ]
  },
  {
   "cell_type": "code",
   "execution_count": 4,
   "metadata": {},
   "outputs": [],
   "source": [
    "array = pd.read_csv(\"order-data.csv\", skiprows=[0]).to_numpy()[keep_parts]"
   ]
  },
  {
   "cell_type": "markdown",
   "metadata": {},
   "source": [
    "# test with sin wave"
   ]
  },
  {
   "cell_type": "code",
   "execution_count": 5,
   "metadata": {},
   "outputs": [],
   "source": [
    "# Uncomment cell to test predicting sin waves to make sure everything is working...\n",
    "# epochs = 10000\n",
    "# lr = .001\n",
    "# seq_len = 150\n",
    "# batch_size = 1\n",
    "# hidden_dim = 128\n",
    "# layers = 2\n",
    "# predict_steps = 100\n",
    "# predict_input = slice(-seq_len, None)\n",
    "# # Sequence needs to see at least a full wave length or results are bad\n",
    "# array = np.array([[f'Wave {i}']+[np.sin(x + i*2*np.pi/2)*(i+1) for x in np.linspace(-1000, 1000, 10051)] for i in range(2)])"
   ]
  },
  {
   "cell_type": "markdown",
   "metadata": {},
   "source": [
    "# transpose data\n",
    "Extract part name from first column.  Transpose data so each column holds the quantities for a part."
   ]
  },
  {
   "cell_type": "code",
   "execution_count": 6,
   "metadata": {},
   "outputs": [
    {
     "data": {
      "text/plain": [
       "(156, 1)"
      ]
     },
     "execution_count": 6,
     "metadata": {},
     "output_type": "execute_result"
    }
   ],
   "source": [
    "part_names = array.T[0]\n",
    "floats = np.array(array.T[1:], dtype='float32')\n",
    "floats.shape"
   ]
  },
  {
   "cell_type": "markdown",
   "metadata": {},
   "source": [
    "# normalize quantities to be 0 - 1"
   ]
  },
  {
   "cell_type": "code",
   "execution_count": 7,
   "metadata": {},
   "outputs": [],
   "source": [
    "min_ = floats.min(0)\n",
    "max_ = floats.max(0)\n",
    "normalize   = lambda values: (values - min_) / (max_ - min_)\n",
    "unnormalize = lambda normalized: normalized * (max_ - min_) + min_\n",
    "\n",
    "tensor = torch.from_numpy(normalize(floats))"
   ]
  },
  {
   "cell_type": "markdown",
   "metadata": {},
   "source": [
    "# batch data\n",
    "Notice how the columns line up. The hidden state output from 0,1,2,3,4 gets fed into sequence 5,6,7,8,9"
   ]
  },
  {
   "cell_type": "code",
   "execution_count": 8,
   "metadata": {},
   "outputs": [
    {
     "name": "stdout",
     "output_type": "stream",
     "text": [
      "tensor([[ 0, 10, 20],\n",
      "        [ 1, 11, 21],\n",
      "        [ 2, 12, 22],\n",
      "        [ 3, 13, 23],\n",
      "        [ 4, 14, 24]])\n",
      "tensor([[ 5, 15, 25],\n",
      "        [ 6, 16, 26],\n",
      "        [ 7, 17, 27],\n",
      "        [ 8, 18, 28],\n",
      "        [ 9, 19, 29]])\n"
     ]
    }
   ],
   "source": [
    "def batch_data(items, seq_len, batch_size):\n",
    "    num_batches = (len(items)-1) // (seq_len * batch_size)\n",
    "    keep = num_batches*seq_len*batch_size\n",
    "    discard = len(items) - keep - 1\n",
    "    if discard: print(f\"Discarding last {discard} items\")\n",
    "    features = items[:keep]   .view(batch_size, num_batches, seq_len, -1).transpose(0,1).transpose(1,2).to(device)\n",
    "    targets  = items[1:keep+1].view(batch_size, num_batches, seq_len, -1).transpose(0,1).transpose(1,2).to(device)\n",
    "    return [*zip(features, targets)]\n",
    "\n",
    "for x, target in batch_data(torch.tensor(range(31)), seq_len=5, batch_size=3):\n",
    "    print(x[:,:,0])"
   ]
  },
  {
   "cell_type": "code",
   "execution_count": 9,
   "metadata": {},
   "outputs": [
    {
     "name": "stdout",
     "output_type": "stream",
     "text": [
      "124\n",
      "Discarding last 3 items\n",
      "Discarding last 11 items\n"
     ]
    }
   ],
   "source": [
    "split = int(tensor.shape[0] * .8)\n",
    "print(split)\n",
    "train = batch_data(tensor[:split], seq_len, batch_size)\n",
    "valid = batch_data(tensor[split:], seq_len=10, batch_size=2)\n",
    "\n",
    "# Until we get more data...\n",
    "#train = valid = batch_data(tensor, seq_len, batch_size)"
   ]
  },
  {
   "cell_type": "markdown",
   "metadata": {},
   "source": [
    "# create RNN model\n",
    "Using LSTM but GRU might be better"
   ]
  },
  {
   "cell_type": "code",
   "execution_count": 10,
   "metadata": {},
   "outputs": [],
   "source": [
    "class RNN(nn.Module):\n",
    "    def __init__(self, input_dim, dropout=.5):\n",
    "        super().__init__()\n",
    "        self.rnn = rnn_type(input_dim, hidden_dim, layers, dropout=dropout)\n",
    "        self.fc = nn.Linear(hidden_dim, input_dim)\n",
    "        self.dropout = nn.Dropout(dropout)\n",
    "\n",
    "    def forward(self, x, hidden):\n",
    "        y, hidden = self.rnn(x, hidden)\n",
    "        y = y.view(-1, hidden_dim)\n",
    "        y = self.dropout(y)\n",
    "        y = self.fc(y)\n",
    "        return y.view(x.shape), hidden"
   ]
  },
  {
   "cell_type": "markdown",
   "metadata": {},
   "source": [
    "# define loss and optimizer"
   ]
  },
  {
   "cell_type": "code",
   "execution_count": 11,
   "metadata": {},
   "outputs": [],
   "source": [
    "model = RNN(tensor.shape[-1]).to(device)\n",
    "criterion = nn.MSELoss()\n",
    "optimizer = optim.Adam(model.parameters(), lr=lr)"
   ]
  },
  {
   "cell_type": "markdown",
   "metadata": {},
   "source": [
    "# train\n",
    "Kernal -> Interrupt to end training early"
   ]
  },
  {
   "cell_type": "code",
   "execution_count": 12,
   "metadata": {},
   "outputs": [
    {
     "name": "stdout",
     "output_type": "stream",
     "text": [
      "Epoc 0 train_loss=5962 valid_loss=14\n",
      "Epoc 1 train_loss=4257 valid_loss=31\n",
      "Epoc 2 train_loss=3967 valid_loss=387\n",
      "Epoc 3 train_loss=3911 valid_loss=599\n",
      "Epoc 4 train_loss=3898 valid_loss=196\n",
      "Epoc 5 train_loss=3743 valid_loss=80\n",
      "Epoc 6 train_loss=3880 valid_loss=164\n",
      "Epoc 7 train_loss=3673 valid_loss=377\n",
      "Epoc 8 train_loss=3793 valid_loss=535\n",
      "Epoc 9 train_loss=3679 valid_loss=439\n",
      "Epoc 10 train_loss=3727 valid_loss=307\n",
      "Epoc 11 train_loss=3616 valid_loss=372\n",
      "Epoc 12 train_loss=3598 valid_loss=645\n",
      "Epoc 13 train_loss=3746 valid_loss=751\n",
      "Epoc 14 train_loss=3669 valid_loss=667\n",
      "Epoc 15 train_loss=3570 valid_loss=766\n",
      "Epoc 16 train_loss=3600 valid_loss=883\n",
      "Epoc 17 train_loss=3547 valid_loss=927\n",
      "Epoc 18 train_loss=3474 valid_loss=1104\n",
      "Epoc 19 train_loss=3575 valid_loss=1280\n",
      "Epoc 20 train_loss=3387 valid_loss=1258\n",
      "Epoc 21 train_loss=3562 valid_loss=1452\n",
      "Epoc 22 train_loss=3460 valid_loss=1402\n",
      "Epoc 23 train_loss=3560 valid_loss=1301\n",
      "Epoc 24 train_loss=3437 valid_loss=1535\n",
      "Epoc 25 train_loss=3461 valid_loss=1448\n",
      "Epoc 26 train_loss=3607 valid_loss=1516\n",
      "Epoc 27 train_loss=3297 valid_loss=1525\n",
      "Epoc 28 train_loss=3688 valid_loss=1441\n",
      "Epoc 29 train_loss=3515 valid_loss=1773\n",
      "Epoc 30 train_loss=3561 valid_loss=1342\n",
      "Epoc 31 train_loss=3572 valid_loss=1403\n",
      "Epoc 32 train_loss=3351 valid_loss=1560\n",
      "Epoc 33 train_loss=3591 valid_loss=1351\n",
      "Epoc 34 train_loss=3659 valid_loss=1602\n",
      "Epoc 35 train_loss=3207 valid_loss=1645\n",
      "Epoc 36 train_loss=3226 valid_loss=1344\n",
      "Epoc 37 train_loss=3585 valid_loss=1635\n",
      "Epoc 38 train_loss=3263 valid_loss=1362\n",
      "Epoc 39 train_loss=3369 valid_loss=1336\n",
      "Epoc 40 train_loss=3352 valid_loss=1521\n",
      "Epoc 41 train_loss=3593 valid_loss=1315\n",
      "Epoc 42 train_loss=3338 valid_loss=1348\n",
      "Epoc 43 train_loss=3260 valid_loss=1380\n",
      "Epoc 44 train_loss=3419 valid_loss=1360\n",
      "Epoc 45 train_loss=3157 valid_loss=1456\n",
      "Epoc 46 train_loss=3333 valid_loss=1441\n",
      "Epoc 47 train_loss=3334 valid_loss=1655\n",
      "Epoc 48 train_loss=3333 valid_loss=1730\n",
      "Epoc 49 train_loss=3237 valid_loss=1639\n",
      "Epoc 50 train_loss=3370 valid_loss=1609\n",
      "Epoc 51 train_loss=3554 valid_loss=1082\n",
      "Epoc 52 train_loss=3144 valid_loss=1011\n",
      "Epoc 53 train_loss=3155 valid_loss=1587\n",
      "Epoc 54 train_loss=2988 valid_loss=1076\n",
      "Epoc 55 train_loss=3247 valid_loss=1187\n",
      "Epoc 56 train_loss=3221 valid_loss=1860\n",
      "Epoc 57 train_loss=2975 valid_loss=1470\n",
      "Epoc 58 train_loss=2878 valid_loss=1532\n",
      "Epoc 59 train_loss=3174 valid_loss=1400\n",
      "Epoc 60 train_loss=3214 valid_loss=1008\n",
      "Epoc 61 train_loss=3081 valid_loss=1619\n",
      "Epoc 62 train_loss=4710 valid_loss=538\n",
      "Epoc 63 train_loss=3576 valid_loss=609\n",
      "Epoc 64 train_loss=4709 valid_loss=195\n",
      "Epoc 65 train_loss=4233 valid_loss=344\n",
      "Epoc 66 train_loss=3763 valid_loss=744\n",
      "Epoc 67 train_loss=3597 valid_loss=1346\n",
      "Epoc 68 train_loss=3609 valid_loss=885\n",
      "Epoc 69 train_loss=3447 valid_loss=608\n",
      "Epoc 70 train_loss=3531 valid_loss=639\n",
      "Epoc 71 train_loss=3439 valid_loss=796\n",
      "Epoc 72 train_loss=3290 valid_loss=1163\n",
      "Epoc 73 train_loss=3304 valid_loss=1509\n",
      "Epoc 74 train_loss=3202 valid_loss=1465\n",
      "Epoc 75 train_loss=3301 valid_loss=1490\n",
      "Epoc 76 train_loss=3283 valid_loss=1797\n",
      "Epoc 77 train_loss=3125 valid_loss=2391\n",
      "Epoc 78 train_loss=3053 valid_loss=2541\n",
      "Epoc 79 train_loss=3099 valid_loss=2306\n",
      "Epoc 80 train_loss=3034 valid_loss=2527\n",
      "Epoc 81 train_loss=3114 valid_loss=2776\n",
      "Epoc 82 train_loss=3086 valid_loss=2478\n",
      "Epoc 83 train_loss=3166 valid_loss=2079\n",
      "Epoc 84 train_loss=3111 valid_loss=2008\n",
      "Epoc 85 train_loss=3157 valid_loss=2075\n",
      "Epoc 86 train_loss=2776 valid_loss=2060\n",
      "Epoc 87 train_loss=2902 valid_loss=2011\n",
      "Epoc 88 train_loss=3063 valid_loss=2026\n",
      "Epoc 89 train_loss=2948 valid_loss=2092\n",
      "Epoc 90 train_loss=2969 valid_loss=2099\n",
      "Epoc 91 train_loss=2679 valid_loss=1912\n",
      "Epoc 92 train_loss=2987 valid_loss=1782\n",
      "Epoc 93 train_loss=2970 valid_loss=1740\n",
      "Epoc 94 train_loss=2773 valid_loss=2376\n",
      "Epoc 95 train_loss=3658 valid_loss=1546\n",
      "Epoc 96 train_loss=3392 valid_loss=1256\n",
      "Epoc 97 train_loss=3764 valid_loss=1079\n",
      "Epoc 98 train_loss=3691 valid_loss=1614\n",
      "Epoc 99 train_loss=2835 valid_loss=3349\n"
     ]
    }
   ],
   "source": [
    "#for epoch in range(epochs):\n",
    "for epoch in range(epochs):\n",
    "    model.train()\n",
    "    train_loss = 0\n",
    "    hidden = None\n",
    "    for x, target in train:\n",
    "        if hidden is not None:\n",
    "            if isinstance(hidden, tuple):\n",
    "                hidden = tuple(h.detach() for h in hidden) # LSTM\n",
    "            else:\n",
    "                hidden = hidden.detach() # GRU\n",
    "\n",
    "        y, hidden = model(x, hidden)\n",
    "        loss = criterion(y, target)\n",
    "        train_loss += loss.item()\n",
    "        optimizer.zero_grad()\n",
    "        loss.backward()\n",
    "        optimizer.step()\n",
    "\n",
    "    model.eval()\n",
    "    with torch.no_grad():\n",
    "        valid_loss = 0\n",
    "        hidden = None\n",
    "        for x, target in valid:\n",
    "            y, hidden = model(x, hidden)\n",
    "            loss = criterion(y, target)\n",
    "            valid_loss += loss.item()\n",
    "\n",
    "    print(f\"Epoc {epoch}\",\n",
    "          f\"train_loss={round(train_loss*1e5/len(train))}\",\n",
    "          f\"valid_loss={round(valid_loss*1e5/len(valid))}\")"
   ]
  },
  {
   "cell_type": "markdown",
   "metadata": {},
   "source": [
    "# run data through model to create hidden state then generate predictions"
   ]
  },
  {
   "cell_type": "code",
   "execution_count": 13,
   "metadata": {},
   "outputs": [],
   "source": [
    "input = tensor[predict_input]\n",
    "output = torch.zeros(predict_steps, input.shape[1])\n",
    "model.eval()\n",
    "with torch.no_grad():\n",
    "    x, _ = batch_data(input, len(input)-1, 1)[0]\n",
    "    y, hidden = model(x, None)\n",
    "    y = y[-1:, :, :]\n",
    "    output[0] = y[0, 0, :]\n",
    "    for i in range(1, predict_steps):\n",
    "        y, hidden = model(y, hidden)\n",
    "        output[i] = y[0, 0, :]"
   ]
  },
  {
   "cell_type": "markdown",
   "metadata": {},
   "source": [
    "# unnormalize data"
   ]
  },
  {
   "cell_type": "code",
   "execution_count": 14,
   "metadata": {},
   "outputs": [
    {
     "data": {
      "text/plain": [
       "array([[8.519232 ],\n",
       "       [8.164825 ],\n",
       "       [7.7293262],\n",
       "       [7.496668 ]], dtype=float32)"
      ]
     },
     "execution_count": 14,
     "metadata": {},
     "output_type": "execute_result"
    }
   ],
   "source": [
    "actual = tensor[predict_input.start:][:len(input) + len(output)]\n",
    "actual = unnormalize(actual.numpy())\n",
    "predict = unnormalize(output.cpu().numpy())\n",
    "predict[:]"
   ]
  },
  {
   "cell_type": "markdown",
   "metadata": {},
   "source": [
    "# generate plots"
   ]
  },
  {
   "cell_type": "code",
   "execution_count": 15,
   "metadata": {},
   "outputs": [
    {
     "data": {
      "image/png": "[encoded data removed]",
      "text/plain": [
       "<Figure size 432x288 with 1 Axes>"
      ]
     },
     "metadata": {
      "needs_background": "light"
     },
     "output_type": "display_data"
    }
   ],
   "source": [
    "for p in range(actual.shape[1]):\n",
    "    plt.title(part_names[p])\n",
    "    plt.plot(range(len(actual)), actual[:, p])\n",
    "    plt.plot(range(len(x), len(x) + len(predict)), predict[:, p], linestyle='--')\n",
    "    plt.show()"
   ]
  },
  {
   "cell_type": "code",
   "execution_count": null,
   "metadata": {},
   "outputs": [],
   "source": []
  }
 ],
 "metadata": {
  "kernelspec": {
   "display_name": "Python 3",
   "language": "python",
   "name": "python3"
  },
  "language_info": {
   "codemirror_mode": {
    "name": "ipython",
    "version": 3
   },
   "file_extension": ".py",
   "mimetype": "text/x-python",
   "name": "python",
   "nbconvert_exporter": "python",
   "pygments_lexer": "ipython3",
   "version": "3.6.10"
  }
 },
 "nbformat": 4,
 "nbformat_minor": 2
}
