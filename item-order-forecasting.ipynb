{
 "cells": [
  {
   "cell_type": "code",
   "execution_count": 1,
   "metadata": {},
   "outputs": [],
   "source": [
    "import torch\n",
    "from torch import nn, optim\n",
    "\n",
    "import numpy as np\n",
    "import pandas as pd\n",
    "import matplotlib.pyplot as plt\n",
    "%matplotlib inline"
   ]
  },
  {
   "cell_type": "markdown",
   "metadata": {},
   "source": [
    "# Load the dataset"
   ]
  },
  {
   "cell_type": "code",
   "execution_count": 2,
   "metadata": {},
   "outputs": [
    {
     "data": {
      "text/html": [
       "<div>\n",
       "<style scoped>\n",
       "    .dataframe tbody tr th:only-of-type {\n",
       "        vertical-align: middle;\n",
       "    }\n",
       "\n",
       "    .dataframe tbody tr th {\n",
       "        vertical-align: top;\n",
       "    }\n",
       "\n",
       "    .dataframe thead th {\n",
       "        text-align: right;\n",
       "    }\n",
       "</style>\n",
       "<table border=\"1\" class=\"dataframe\">\n",
       "  <thead>\n",
       "    <tr style=\"text-align: right;\">\n",
       "      <th></th>\n",
       "      <th>1</th>\n",
       "      <th>2</th>\n",
       "      <th>3</th>\n",
       "      <th>4</th>\n",
       "      <th>5</th>\n",
       "      <th>6</th>\n",
       "      <th>7</th>\n",
       "      <th>8</th>\n",
       "      <th>9</th>\n",
       "      <th>10</th>\n",
       "      <th>...</th>\n",
       "      <th>95</th>\n",
       "      <th>96</th>\n",
       "      <th>97</th>\n",
       "      <th>98</th>\n",
       "      <th>99</th>\n",
       "      <th>100</th>\n",
       "      <th>101</th>\n",
       "      <th>102</th>\n",
       "      <th>103</th>\n",
       "      <th>104</th>\n",
       "    </tr>\n",
       "  </thead>\n",
       "  <tbody>\n",
       "    <tr>\n",
       "      <td>0</td>\n",
       "      <td>0.0</td>\n",
       "      <td>0.0</td>\n",
       "      <td>0.0</td>\n",
       "      <td>16.0</td>\n",
       "      <td>0.0</td>\n",
       "      <td>0.0</td>\n",
       "      <td>0.0</td>\n",
       "      <td>7.0</td>\n",
       "      <td>0.0</td>\n",
       "      <td>0.0</td>\n",
       "      <td>...</td>\n",
       "      <td>57.0</td>\n",
       "      <td>0.0</td>\n",
       "      <td>0.0</td>\n",
       "      <td>0.0</td>\n",
       "      <td>0.0</td>\n",
       "      <td>26.0</td>\n",
       "      <td>0.0</td>\n",
       "      <td>0.0</td>\n",
       "      <td>0.0</td>\n",
       "      <td>0.0</td>\n",
       "    </tr>\n",
       "    <tr>\n",
       "      <td>1</td>\n",
       "      <td>0.0</td>\n",
       "      <td>0.0</td>\n",
       "      <td>0.0</td>\n",
       "      <td>85.0</td>\n",
       "      <td>0.0</td>\n",
       "      <td>0.0</td>\n",
       "      <td>0.0</td>\n",
       "      <td>58.0</td>\n",
       "      <td>0.0</td>\n",
       "      <td>0.0</td>\n",
       "      <td>...</td>\n",
       "      <td>0.0</td>\n",
       "      <td>0.0</td>\n",
       "      <td>0.0</td>\n",
       "      <td>0.0</td>\n",
       "      <td>0.0</td>\n",
       "      <td>0.0</td>\n",
       "      <td>0.0</td>\n",
       "      <td>0.0</td>\n",
       "      <td>0.0</td>\n",
       "      <td>0.0</td>\n",
       "    </tr>\n",
       "    <tr>\n",
       "      <td>2</td>\n",
       "      <td>0.0</td>\n",
       "      <td>0.0</td>\n",
       "      <td>0.0</td>\n",
       "      <td>523.0</td>\n",
       "      <td>0.0</td>\n",
       "      <td>0.0</td>\n",
       "      <td>0.0</td>\n",
       "      <td>12.0</td>\n",
       "      <td>0.0</td>\n",
       "      <td>0.0</td>\n",
       "      <td>...</td>\n",
       "      <td>10.0</td>\n",
       "      <td>0.0</td>\n",
       "      <td>0.0</td>\n",
       "      <td>0.0</td>\n",
       "      <td>0.0</td>\n",
       "      <td>0.0</td>\n",
       "      <td>0.0</td>\n",
       "      <td>0.0</td>\n",
       "      <td>0.0</td>\n",
       "      <td>0.0</td>\n",
       "    </tr>\n",
       "    <tr>\n",
       "      <td>3</td>\n",
       "      <td>0.0</td>\n",
       "      <td>0.0</td>\n",
       "      <td>0.0</td>\n",
       "      <td>253.0</td>\n",
       "      <td>0.0</td>\n",
       "      <td>0.0</td>\n",
       "      <td>0.0</td>\n",
       "      <td>132.0</td>\n",
       "      <td>0.0</td>\n",
       "      <td>0.0</td>\n",
       "      <td>...</td>\n",
       "      <td>227.0</td>\n",
       "      <td>0.0</td>\n",
       "      <td>0.0</td>\n",
       "      <td>0.0</td>\n",
       "      <td>0.0</td>\n",
       "      <td>173.0</td>\n",
       "      <td>0.0</td>\n",
       "      <td>0.0</td>\n",
       "      <td>0.0</td>\n",
       "      <td>785.0</td>\n",
       "    </tr>\n",
       "    <tr>\n",
       "      <td>4</td>\n",
       "      <td>0.0</td>\n",
       "      <td>0.0</td>\n",
       "      <td>0.0</td>\n",
       "      <td>455.0</td>\n",
       "      <td>0.0</td>\n",
       "      <td>0.0</td>\n",
       "      <td>0.0</td>\n",
       "      <td>302.0</td>\n",
       "      <td>0.0</td>\n",
       "      <td>0.0</td>\n",
       "      <td>...</td>\n",
       "      <td>434.0</td>\n",
       "      <td>0.0</td>\n",
       "      <td>0.0</td>\n",
       "      <td>0.0</td>\n",
       "      <td>0.0</td>\n",
       "      <td>195.0</td>\n",
       "      <td>0.0</td>\n",
       "      <td>0.0</td>\n",
       "      <td>0.0</td>\n",
       "      <td>1028.0</td>\n",
       "    </tr>\n",
       "  </tbody>\n",
       "</table>\n",
       "<p>5 rows × 104 columns</p>\n",
       "</div>"
      ],
      "text/plain": [
       "     1    2    3      4    5    6    7      8    9   10  ...     95   96   97  \\\n",
       "0  0.0  0.0  0.0   16.0  0.0  0.0  0.0    7.0  0.0  0.0  ...   57.0  0.0  0.0   \n",
       "1  0.0  0.0  0.0   85.0  0.0  0.0  0.0   58.0  0.0  0.0  ...    0.0  0.0  0.0   \n",
       "2  0.0  0.0  0.0  523.0  0.0  0.0  0.0   12.0  0.0  0.0  ...   10.0  0.0  0.0   \n",
       "3  0.0  0.0  0.0  253.0  0.0  0.0  0.0  132.0  0.0  0.0  ...  227.0  0.0  0.0   \n",
       "4  0.0  0.0  0.0  455.0  0.0  0.0  0.0  302.0  0.0  0.0  ...  434.0  0.0  0.0   \n",
       "\n",
       "    98   99    100  101  102  103     104  \n",
       "0  0.0  0.0   26.0  0.0  0.0  0.0     0.0  \n",
       "1  0.0  0.0    0.0  0.0  0.0  0.0     0.0  \n",
       "2  0.0  0.0    0.0  0.0  0.0  0.0     0.0  \n",
       "3  0.0  0.0  173.0  0.0  0.0  0.0   785.0  \n",
       "4  0.0  0.0  195.0  0.0  0.0  0.0  1028.0  \n",
       "\n",
       "[5 rows x 104 columns]"
      ]
     },
     "execution_count": 2,
     "metadata": {},
     "output_type": "execute_result"
    }
   ],
   "source": [
    "data = pd.read_csv(\"order-data.csv\")\n",
    "data = data.iloc[:,1:105]\n",
    "data.head()"
   ]
  },
  {
   "cell_type": "markdown",
   "metadata": {},
   "source": [
    "# Normalize the data"
   ]
  },
  {
   "cell_type": "code",
   "execution_count": 3,
   "metadata": {},
   "outputs": [],
   "source": [
    "data_temp_array = data.to_numpy()\n"
   ]
  },
  {
   "cell_type": "code",
   "execution_count": 4,
   "metadata": {},
   "outputs": [
    {
     "name": "stdout",
     "output_type": "stream",
     "text": [
      "A     1\n",
      "B    88\n",
      "dtype: int64\n",
      "A      5\n",
      "B    300\n",
      "dtype: int64\n",
      "      A         B\n",
      "0  0.00  0.000000\n",
      "1  0.25  1.000000\n",
      "2  1.00  0.528302\n",
      "     A      B\n",
      "0  1.0   88.0\n",
      "1  2.0  300.0\n",
      "2  5.0  200.0\n"
     ]
    }
   ],
   "source": [
    "# experimental cell\n",
    "\n",
    "mydf = pd.DataFrame({'A': [1, 2, 5],\n",
    "                   'B': [88, 300, 200]})\n",
    "\n",
    "# Find and store min and max vectors\n",
    "min_values = mydf.min()\n",
    "max_values = mydf.max()\n",
    "\n",
    "\n",
    "print(min_values)\n",
    "print(max_values)\n",
    "\n",
    "normalized_df = (mydf - min_values) / (mydf.max() - min_values)\n",
    "print(normalized_df)\n",
    "\n",
    "denormalized_df= normalized_df * (max_values - min_values) + min_values\n",
    "print(denormalized_df)\n"
   ]
  },
  {
   "cell_type": "code",
   "execution_count": null,
   "metadata": {},
   "outputs": [],
   "source": []
  },
  {
   "cell_type": "code",
   "execution_count": null,
   "metadata": {},
   "outputs": [],
   "source": []
  },
  {
   "cell_type": "code",
   "execution_count": null,
   "metadata": {},
   "outputs": [],
   "source": [
    "\n"
   ]
  },
  {
   "cell_type": "code",
   "execution_count": 12,
   "metadata": {},
   "outputs": [
    {
     "name": "stdout",
     "output_type": "stream",
     "text": [
      "         1    2    3         4    5    6    7         8    9   10  ...  \\\n",
      "0      0.0  0.0  0.0  0.000209  0.0  0.0  0.0  0.000163  0.0  0.0  ...   \n",
      "1      0.0  0.0  0.0  0.001112  0.0  0.0  0.0  0.001347  0.0  0.0  ...   \n",
      "2      0.0  0.0  0.0  0.006839  0.0  0.0  0.0  0.000279  0.0  0.0  ...   \n",
      "3      0.0  0.0  0.0  0.003309  0.0  0.0  0.0  0.003066  0.0  0.0  ...   \n",
      "4      0.0  0.0  0.0  0.005950  0.0  0.0  0.0  0.007015  0.0  0.0  ...   \n",
      "...    ...  ...  ...       ...  ...  ...  ...       ...  ...  ...  ...   \n",
      "21536  0.0  0.0  0.0  0.000000  0.0  0.0  0.0  0.000000  0.0  0.0  ...   \n",
      "21537  0.0  0.0  0.0  0.000000  0.0  0.0  0.0  0.000000  0.0  0.0  ...   \n",
      "21538  0.0  0.0  0.0  0.000000  0.0  0.0  0.0  0.000000  0.0  0.0  ...   \n",
      "21539  0.0  0.0  0.0  0.000000  0.0  0.0  0.0  0.000000  0.0  0.0  ...   \n",
      "21540  0.0  0.0  0.0  0.000000  0.0  0.0  0.0  0.000000  0.0  0.0  ...   \n",
      "\n",
      "             95   96   97   98   99       100  101  102  103       104  \n",
      "0      0.001226  0.0  0.0  0.0  0.0  0.000514  0.0  0.0  0.0  0.000000  \n",
      "1      0.000000  0.0  0.0  0.0  0.0  0.000000  0.0  0.0  0.0  0.000000  \n",
      "2      0.000215  0.0  0.0  0.0  0.0  0.000000  0.0  0.0  0.0  0.000000  \n",
      "3      0.004883  0.0  0.0  0.0  0.0  0.003419  0.0  0.0  0.0  0.002694  \n",
      "4      0.009335  0.0  0.0  0.0  0.0  0.003854  0.0  0.0  0.0  0.003528  \n",
      "...         ...  ...  ...  ...  ...       ...  ...  ...  ...       ...  \n",
      "21536  0.000000  0.0  0.0  0.0  0.0  0.000000  0.0  0.0  0.0  0.000264  \n",
      "21537  0.000000  0.0  0.0  0.0  0.0  0.000020  0.0  0.0  0.0  0.000000  \n",
      "21538  0.000000  0.0  0.0  0.0  0.0  0.000000  0.0  0.0  0.0  0.000686  \n",
      "21539  0.000000  0.0  0.0  0.0  0.0  0.000000  0.0  0.0  0.0  0.000069  \n",
      "21540  0.000000  0.0  0.0  0.0  0.0  0.000000  0.0  0.0  0.0  0.000014  \n",
      "\n",
      "[21541 rows x 104 columns]\n"
     ]
    }
   ],
   "source": [
    "# Find and store min and max vectors\n",
    "min_values = data.min()\n",
    "max_values = data.max()\n",
    "\n",
    "#print(min_values)\n",
    "#print(max_values)\n",
    "\n",
    "data_normalized = (data - min_values) / (data.max() - min_values)\n",
    "data_normalized = data_normalized.fillna(0)\n",
    "print(data_normalized)\n",
    "\n",
    "# selecting the training data. Use 100 weeks and leave 4 weeks out.\n",
    "data_train = data_normalized.iloc[:,:-4]\n",
    "\n",
    "inputs = torch.Tensor(data_train.values).unsqueeze(1) # torch.Size([21541, 1, 100])\n",
    "\n",
    "targets = data_train.iloc[:, 4:]\n",
    "#print(targets.shape)\n",
    "temp_data = data_train.iloc[:, 96:]\n",
    "targets = np.append(targets, temp_data, 1)\n",
    "#print(targets.shape)\n",
    "\n",
    "targets = torch.Tensor(targets)"
   ]
  },
  {
   "cell_type": "markdown",
   "metadata": {},
   "source": [
    "# Defining our model"
   ]
  },
  {
   "cell_type": "code",
   "execution_count": 13,
   "metadata": {},
   "outputs": [],
   "source": [
    "class RNN(nn.Module):\n",
    "    def __init__(self, input_size=1, hidden_size=10, output_size=1):\n",
    "        super(RNN, self).__init__()\n",
    "        \n",
    "        # hidden dimension size\n",
    "        self.hidden_size = hidden_size\n",
    "        \n",
    "        # Add an LSTM/GRU layer:\n",
    "        self.rnn = nn.GRU(input_size, hidden_size, batch_first=True)\n",
    "        \n",
    "        # Add a fully-connected layer:\n",
    "        self.output = nn.Linear(hidden_size, output_size)\n",
    "        \n",
    "    \n",
    "    def forward(self, x, hidden):\n",
    "        out, hidden = self.rnn(x, hidden)\n",
    "        out = out.view(-1, self.hidden_size)\n",
    "        out = self.output(out)\n",
    "        \n",
    "        return out, hidden"
   ]
  },
  {
   "cell_type": "markdown",
   "metadata": {},
   "source": [
    "# Instantiate the model, define loss and optimization functions"
   ]
  },
  {
   "cell_type": "code",
   "execution_count": 14,
   "metadata": {},
   "outputs": [
    {
     "data": {
      "text/plain": [
       "RNN(\n",
       "  (rnn): GRU(100, 10, batch_first=True)\n",
       "  (output): Linear(in_features=10, out_features=100, bias=True)\n",
       ")"
      ]
     },
     "execution_count": 14,
     "metadata": {},
     "output_type": "execute_result"
    }
   ],
   "source": [
    "model = RNN(data_train.shape[1], 10, 100)\n",
    "\n",
    "criterion = nn.MSELoss()\n",
    "optimizer = torch.optim.Adam(model.parameters(), lr=0.001)\n",
    "epochs = 1000\n",
    "\n",
    "model"
   ]
  },
  {
   "cell_type": "code",
   "execution_count": 15,
   "metadata": {},
   "outputs": [
    {
     "name": "stdout",
     "output_type": "stream",
     "text": [
      "Epoch: 100 Loss: 0.00239883\n",
      "Epoch: 200 Loss: 0.00009639\n",
      "Epoch: 300 Loss: 0.00007554\n",
      "Epoch: 400 Loss: 0.00007201\n",
      "Epoch: 500 Loss: 0.00006866\n",
      "Epoch: 600 Loss: 0.00006541\n",
      "Epoch: 700 Loss: 0.00006232\n",
      "Epoch: 800 Loss: 0.00005944\n",
      "Epoch: 900 Loss: 0.00005675\n",
      "Epoch: 1000 Loss: 0.00005422\n",
      "\n",
      "Duration: 67 seconds\n"
     ]
    }
   ],
   "source": [
    "import time\n",
    "\n",
    "start_time = time.time()\n",
    "losses = []\n",
    "\n",
    "for i in range(1, epochs+1):\n",
    "    \n",
    "    hidden = None\n",
    "    pred, hidden = model(inputs, hidden)\n",
    "    \n",
    "    loss = criterion(pred, targets)\n",
    "    # reset the parameters and hidden states\n",
    "    optimizer.zero_grad()\n",
    "    loss.backward()\n",
    "    optimizer.step()\n",
    "    \n",
    "    losses.append(loss.item())\n",
    "\n",
    "    if i%100 == 0:\n",
    "        # print training result\n",
    "        print(f'Epoch: {i} Loss: {loss.item():10.8f}')\n",
    "        \n",
    "\n",
    "print(f'\\nDuration: {time.time() - start_time:.0f} seconds')"
   ]
  },
  {
   "cell_type": "code",
   "execution_count": 16,
   "metadata": {},
   "outputs": [
    {
     "data": {
      "image/png": "[encoded data removed]",
      "text/plain": [
       "<Figure size 432x288 with 1 Axes>"
      ]
     },
     "metadata": {
      "needs_background": "light"
     },
     "output_type": "display_data"
    }
   ],
   "source": [
    "x_range = range(len(losses))\n",
    "plt.plot(x_range, losses)\n",
    "plt.xlabel(\"Epochs\")\n",
    "plt.ylabel(\"Loss\")\n",
    "plt.show()"
   ]
  },
  {
   "cell_type": "code",
   "execution_count": 29,
   "metadata": {},
   "outputs": [
    {
     "name": "stdout",
     "output_type": "stream",
     "text": [
      "             96        97        98        99\n",
      "0      0.000595 -0.000675  0.000398  0.001735\n",
      "1      0.000528 -0.000724 -0.000002  0.001662\n",
      "2      0.000778 -0.000820  0.000164  0.001450\n",
      "3     -0.000908  0.000602 -0.000182  0.002860\n",
      "4     -0.000215  0.000848 -0.001324  0.002529\n",
      "...         ...       ...       ...       ...\n",
      "21536  0.000621 -0.000716  0.000419  0.001657\n",
      "21537  0.000620 -0.000715  0.000419  0.001660\n",
      "21538  0.000621 -0.000716  0.000419  0.001657\n",
      "21539  0.000621 -0.000716  0.000419  0.001657\n",
      "21540  0.000621 -0.000716  0.000419  0.001657\n",
      "\n",
      "[21541 rows x 4 columns]\n"
     ]
    }
   ],
   "source": [
    "npdata = (pred.detach().numpy())\n",
    "predicted_values = pd.DataFrame(data=npdata)\n",
    "\n",
    "print(predicted_values.iloc[:, 96:])\n",
    "\n",
    "#denormalized_df= predicted_values * (max_values - min_values) + min_values\n",
    "#print(denormalized_df)\n",
    "\n",
    "# inverse transform and print the first 5 rows\n",
    "#npdata.iloc[:, 100:] = np.arange()\n",
    "\n",
    "#inversed = scaler.inverse_transform(npdata)\n",
    "#inversed"
   ]
  },
  {
   "cell_type": "code",
   "execution_count": null,
   "metadata": {},
   "outputs": [],
   "source": []
  },
  {
   "cell_type": "code",
   "execution_count": null,
   "metadata": {},
   "outputs": [],
   "source": []
  },
  {
   "cell_type": "code",
   "execution_count": null,
   "metadata": {},
   "outputs": [],
   "source": []
  },
  {
   "cell_type": "code",
   "execution_count": null,
   "metadata": {},
   "outputs": [],
   "source": [
    "npdata = (pred.detach().numpy())\n",
    "\n",
    "unscaled = scaler.inverse_transform(npdata)\n",
    "unscaled\n",
    "\n",
    "data_normalized = pd.DataFrame(data=unscaled)\n",
    "unscaled = scaler.inverse_transform(data_normalized)\n",
    "\n",
    "unscaled = pd.DataFrame(data=unscaled)\n",
    "unscaled\n",
    "\n",
    "#scaler2 = MinMaxScaler()\n",
    "#unscaled = scaler2.inverse_transform(predicted_values)\n",
    "\n",
    "#unscaled\n",
    "\n",
    "\n",
    "#data_normalized = pd.DataFrame(data=scaled_data)\n",
    "#unscaled = scaler.inverse_transform(scaled)\n",
    "\n",
    "#pred.detach().numpy()\n",
    "#predicted_values = scaler.inverse_transform(pred.detach().numpy())\n",
    "#predicted_values"
   ]
  },
  {
   "cell_type": "markdown",
   "metadata": {},
   "source": [
    "# Predicted values of the last column"
   ]
  },
  {
   "cell_type": "code",
   "execution_count": null,
   "metadata": {},
   "outputs": [],
   "source": [
    "\n",
    "predicted_values = pred.detach().numpy()\n",
    "predicted_values\n",
    "#predicted_values = [int(i) for i in predicted_values]\n",
    "#predicted_values"
   ]
  },
  {
   "cell_type": "markdown",
   "metadata": {},
   "source": [
    "# 104 weeks sales of item 1 or the first row"
   ]
  },
  {
   "cell_type": "code",
   "execution_count": null,
   "metadata": {},
   "outputs": [],
   "source": [
    "\n",
    "plt.figure(figsize=(20,5))\n",
    "plt.title('Item')\n",
    "plt.ylabel('Sales')\n",
    "plt.grid(True)\n",
    "plt.autoscale(axis='x',tight=True)\n",
    "plt.plot(data.iloc[0])\n",
    "plt.plot(x_range[:0],pred.detach().numpy()[:0])\n",
    "plt.show()"
   ]
  },
  {
   "cell_type": "code",
   "execution_count": null,
   "metadata": {},
   "outputs": [],
   "source": []
  }
 ],
 "metadata": {
  "kernelspec": {
   "display_name": "Python 3",
   "language": "python",
   "name": "python3"
  },
  "language_info": {
   "codemirror_mode": {
    "name": "ipython",
    "version": 3
   },
   "file_extension": ".py",
   "mimetype": "text/x-python",
   "name": "python",
   "nbconvert_exporter": "python",
   "pygments_lexer": "ipython3",
   "version": "3.7.4"
  }
 },
 "nbformat": 4,
 "nbformat_minor": 2
}
